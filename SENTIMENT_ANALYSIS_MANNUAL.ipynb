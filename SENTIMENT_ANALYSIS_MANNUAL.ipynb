{
 "cells": [
  {
   "cell_type": "code",
   "execution_count": 1,
   "id": "d2a67b9f-5e61-490d-a313-15d5e249627e",
   "metadata": {},
   "outputs": [],
   "source": [
    "# Import necessary libraries\n",
    "import pandas as pd\n",
    "import numpy as np\n",
    "import re\n",
    "import nltk\n",
    "from nltk.corpus import stopwords\n",
    "from nltk.stem import WordNetLemmatizer\n",
    "from sklearn.feature_extraction.text import TfidfVectorizer\n",
    "from sklearn.linear_model import LogisticRegression\n",
    "import pickle"
   ]
  },
  {
   "cell_type": "code",
   "execution_count": 3,
   "id": "0cc3a72d-6a63-4429-aab9-be64827fda43",
   "metadata": {},
   "outputs": [
    {
     "name": "stderr",
     "output_type": "stream",
     "text": [
      "[nltk_data] Downloading package stopwords to\n",
      "[nltk_data]     C:\\Users\\patel\\AppData\\Roaming\\nltk_data...\n",
      "[nltk_data]   Package stopwords is already up-to-date!\n",
      "[nltk_data] Downloading package wordnet to\n",
      "[nltk_data]     C:\\Users\\patel\\AppData\\Roaming\\nltk_data...\n",
      "[nltk_data]   Package wordnet is already up-to-date!\n",
      "[nltk_data] Downloading package punkt to\n",
      "[nltk_data]     C:\\Users\\patel\\AppData\\Roaming\\nltk_data...\n",
      "[nltk_data]   Package punkt is already up-to-date!\n"
     ]
    },
    {
     "data": {
      "text/plain": [
       "True"
      ]
     },
     "execution_count": 3,
     "metadata": {},
     "output_type": "execute_result"
    }
   ],
   "source": [
    "# Download required NLTK datasets\n",
    "nltk.download('stopwords')\n",
    "nltk.download('wordnet')\n",
    "nltk.download('punkt')"
   ]
  },
  {
   "cell_type": "code",
   "execution_count": 5,
   "id": "572b0ab7-627b-4da3-83c6-35134efcd431",
   "metadata": {},
   "outputs": [],
   "source": [
    "# Define stop words and lemmatizer\n",
    "stop_words = set(stopwords.words('english'))\n",
    "lemmatizer = WordNetLemmatizer()"
   ]
  },
  {
   "cell_type": "code",
   "execution_count": 7,
   "id": "991b9dcf-fdee-446e-92c2-d0d78d709211",
   "metadata": {},
   "outputs": [],
   "source": [
    "def preprocess_text(text):\n",
    "    # Remove special characters\n",
    "    text = re.sub(r'[^a-zA-Z\\s]', '', text)\n",
    "    # Tokenization\n",
    "    words = nltk.word_tokenize(text.lower())\n",
    "    # Remove stopwords and lemmatize\n",
    "    words = [lemmatizer.lemmatize(word) for word in words if word not in stop_words]\n",
    "    return ' '.join(words)"
   ]
  },
  {
   "cell_type": "code",
   "execution_count": 9,
   "id": "9d0e6169-7001-4f02-a6f2-095218c5b512",
   "metadata": {},
   "outputs": [],
   "source": [
    "# Load the saved model and vectorizer\n",
    "try:\n",
    "    with open('sentiment_model.pkl', 'rb') as model_file:\n",
    "        model = pickle.load(model_file)\n",
    "    with open('tfidf_vectorizer.pkl', 'rb') as vec_file:\n",
    "        tfidf = pickle.load(vec_file)\n",
    "except FileNotFoundError:\n",
    "    print(\"Error: Model files not found. Please make sure you have trained and saved the model first.\")\n",
    "    exit()"
   ]
  },
  {
   "cell_type": "code",
   "execution_count": 11,
   "id": "492dfdcd-b6df-4e62-9a2b-d3f579fd6a82",
   "metadata": {},
   "outputs": [],
   "source": [
    "def analyze_sentiment():\n",
    "    print(\"\\n=== Real-time Sentiment Analysis ===\")\n",
    "    print(\"Type 'quit' to exit\")\n",
    "    \n",
    "    while True:\n",
    "        # Get user input\n",
    "        user_text = input(\"\\nEnter text to analyze: \").strip()\n",
    "        \n",
    "        # Check for quit command\n",
    "        if user_text.lower() == 'quit':\n",
    "            print(\"Exiting sentiment analysis...\")\n",
    "            break\n",
    "        \n",
    "        # Skip empty input\n",
    "        if not user_text:\n",
    "            print(\"Please enter some text to analyze.\")\n",
    "            continue\n",
    "            \n",
    "        try:\n",
    "            # Preprocess and transform input text\n",
    "            cleaned_text = preprocess_text(user_text)\n",
    "            transformed_text = tfidf.transform([cleaned_text])\n",
    "            \n",
    "            # Predict sentiment\n",
    "            prediction = model.predict(transformed_text)[0]\n",
    "            probability = model.predict_proba(transformed_text)[0]\n",
    "            \n",
    "            # Get confidence score\n",
    "            confidence = max(probability) * 100\n",
    "            \n",
    "            # Print results with formatting\n",
    "            print(\"\\nResults:\")\n",
    "            print(\"-\" * 50)\n",
    "            print(f\"Original Text: {user_text}\")\n",
    "            print(f\"Sentiment: {prediction.upper()}\")\n",
    "            print(f\"Confidence: {confidence:.2f}%\")\n",
    "            \n",
    "            # Add additional context based on confidence\n",
    "            if confidence > 90:\n",
    "                print(\"Interpretation: Very strong sentiment\")\n",
    "            elif confidence > 70:\n",
    "                print(\"Interpretation: Strong sentiment\")\n",
    "            elif confidence > 50:\n",
    "                print(\"Interpretation: Moderate sentiment\")\n",
    "            else:\n",
    "                print(\"Interpretation: Weak/unclear sentiment\")\n",
    "            print(\"-\" * 50)\n",
    "            \n",
    "        except Exception as e:\n",
    "            print(f\"Error analyzing text: {str(e)}\")"
   ]
  },
  {
   "cell_type": "code",
   "execution_count": null,
   "id": "17468da6-b1ec-4c49-aff9-24df2a0d08f7",
   "metadata": {},
   "outputs": [
    {
     "name": "stdout",
     "output_type": "stream",
     "text": [
      "\n",
      "=== Real-time Sentiment Analysis ===\n",
      "Type 'quit' to exit\n"
     ]
    },
    {
     "name": "stdin",
     "output_type": "stream",
     "text": [
      "\n",
      "Enter text to analyze:  wowwwww\n"
     ]
    },
    {
     "name": "stdout",
     "output_type": "stream",
     "text": [
      "\n",
      "Results:\n",
      "--------------------------------------------------\n",
      "Original Text: wowwwww\n",
      "Sentiment: NEUTRAL\n",
      "Confidence: 49.01%\n",
      "Interpretation: Weak/unclear sentiment\n",
      "--------------------------------------------------\n"
     ]
    },
    {
     "name": "stdin",
     "output_type": "stream",
     "text": [
      "\n",
      "Enter text to analyze:  wowwww food\n"
     ]
    },
    {
     "name": "stdout",
     "output_type": "stream",
     "text": [
      "\n",
      "Results:\n",
      "--------------------------------------------------\n",
      "Original Text: wowwww food\n",
      "Sentiment: NEGATIVE\n",
      "Confidence: 54.71%\n",
      "Interpretation: Moderate sentiment\n",
      "--------------------------------------------------\n"
     ]
    },
    {
     "name": "stdin",
     "output_type": "stream",
     "text": [
      "\n",
      "Enter text to analyze:  best till yet\n"
     ]
    },
    {
     "name": "stdout",
     "output_type": "stream",
     "text": [
      "\n",
      "Results:\n",
      "--------------------------------------------------\n",
      "Original Text: best till yet\n",
      "Sentiment: POSITIVE\n",
      "Confidence: 95.02%\n",
      "Interpretation: Very strong sentiment\n",
      "--------------------------------------------------\n"
     ]
    }
   ],
   "source": [
    "if __name__ == \"__main__\":\n",
    "    analyze_sentiment()"
   ]
  },
  {
   "cell_type": "code",
   "execution_count": null,
   "id": "d835c2ea-b289-4f9d-a706-bcdbb15506d8",
   "metadata": {},
   "outputs": [],
   "source": []
  },
  {
   "cell_type": "code",
   "execution_count": null,
   "id": "9c185404-9b6e-42c2-b3e4-09528524c41e",
   "metadata": {},
   "outputs": [],
   "source": []
  },
  {
   "cell_type": "code",
   "execution_count": null,
   "id": "a452a4eb-a567-493b-90d8-aaa0a59ced6c",
   "metadata": {},
   "outputs": [],
   "source": []
  },
  {
   "cell_type": "code",
   "execution_count": null,
   "id": "2cc657b7-6f43-4d21-9dbe-d4384720ade7",
   "metadata": {},
   "outputs": [],
   "source": []
  },
  {
   "cell_type": "code",
   "execution_count": null,
   "id": "ca1ea8b9-4720-4bfd-b6d5-23cc22af3c66",
   "metadata": {},
   "outputs": [],
   "source": []
  },
  {
   "cell_type": "code",
   "execution_count": null,
   "id": "fcf82e6e-5e87-49a9-ad01-ea288fb745fa",
   "metadata": {},
   "outputs": [],
   "source": []
  },
  {
   "cell_type": "code",
   "execution_count": null,
   "id": "b5515324-d57a-4eec-8f3d-2d142ec946bf",
   "metadata": {},
   "outputs": [],
   "source": []
  },
  {
   "cell_type": "code",
   "execution_count": null,
   "id": "2e593636-73cd-4bbe-b6ae-dd31f71529de",
   "metadata": {},
   "outputs": [],
   "source": []
  },
  {
   "cell_type": "code",
   "execution_count": null,
   "id": "ce545471-c266-4ec4-be39-c6737ea2a33e",
   "metadata": {},
   "outputs": [],
   "source": []
  },
  {
   "cell_type": "code",
   "execution_count": null,
   "id": "8e51a7e3-bf67-40bc-96ea-87eeb703bc50",
   "metadata": {},
   "outputs": [],
   "source": []
  },
  {
   "cell_type": "code",
   "execution_count": null,
   "id": "3a78cae8-9cad-4390-b97e-95c4be5dc107",
   "metadata": {},
   "outputs": [],
   "source": []
  },
  {
   "cell_type": "code",
   "execution_count": null,
   "id": "f2572c81-501a-4cbd-8302-b7f2d8708730",
   "metadata": {},
   "outputs": [],
   "source": []
  },
  {
   "cell_type": "code",
   "execution_count": null,
   "id": "b84eb84a-c16b-497a-b36e-776b231a37a4",
   "metadata": {},
   "outputs": [],
   "source": []
  },
  {
   "cell_type": "code",
   "execution_count": null,
   "id": "681ffa2b-97cb-4302-8bf8-e516f215796a",
   "metadata": {},
   "outputs": [],
   "source": []
  },
  {
   "cell_type": "code",
   "execution_count": null,
   "id": "76911b50-f655-4190-b64e-bae7e87660a7",
   "metadata": {},
   "outputs": [],
   "source": []
  },
  {
   "cell_type": "code",
   "execution_count": null,
   "id": "d120266e-f5c7-4c33-9afe-14a1d6e6337f",
   "metadata": {},
   "outputs": [],
   "source": []
  },
  {
   "cell_type": "code",
   "execution_count": null,
   "id": "91c5d9c7-bdb3-4aa6-acef-4a4affc06ca4",
   "metadata": {},
   "outputs": [],
   "source": []
  },
  {
   "cell_type": "code",
   "execution_count": null,
   "id": "8b82d140-5687-42b7-9bda-e14972d9f58b",
   "metadata": {},
   "outputs": [],
   "source": []
  },
  {
   "cell_type": "code",
   "execution_count": null,
   "id": "54a9916d-6ce5-4227-85cc-23b101835a39",
   "metadata": {},
   "outputs": [],
   "source": []
  },
  {
   "cell_type": "code",
   "execution_count": null,
   "id": "5f49cf11-7fc9-46e2-b38b-c8d8d2262d09",
   "metadata": {},
   "outputs": [],
   "source": []
  },
  {
   "cell_type": "code",
   "execution_count": null,
   "id": "1654b4fc-c366-46cc-a310-00074330dfa4",
   "metadata": {},
   "outputs": [],
   "source": []
  },
  {
   "cell_type": "code",
   "execution_count": null,
   "id": "6a86ab9a-6142-45cd-9d1d-a11c981b063f",
   "metadata": {},
   "outputs": [],
   "source": []
  },
  {
   "cell_type": "code",
   "execution_count": null,
   "id": "0f2b8f30-c6c9-48d8-9dd9-30654e049932",
   "metadata": {},
   "outputs": [],
   "source": []
  },
  {
   "cell_type": "code",
   "execution_count": null,
   "id": "4433630e-7d80-4fed-b408-ec953af92e5d",
   "metadata": {},
   "outputs": [],
   "source": []
  },
  {
   "cell_type": "code",
   "execution_count": null,
   "id": "8a5c612b-d774-431b-ba4b-30d85c936d34",
   "metadata": {},
   "outputs": [],
   "source": []
  },
  {
   "cell_type": "code",
   "execution_count": null,
   "id": "af8c9634-cf17-4ef3-afc7-5ee0d1e5b18a",
   "metadata": {},
   "outputs": [],
   "source": []
  }
 ],
 "metadata": {
  "kernelspec": {
   "display_name": "Python 3 (ipykernel)",
   "language": "python",
   "name": "python3"
  },
  "language_info": {
   "codemirror_mode": {
    "name": "ipython",
    "version": 3
   },
   "file_extension": ".py",
   "mimetype": "text/x-python",
   "name": "python",
   "nbconvert_exporter": "python",
   "pygments_lexer": "ipython3",
   "version": "3.12.4"
  }
 },
 "nbformat": 4,
 "nbformat_minor": 5
}
